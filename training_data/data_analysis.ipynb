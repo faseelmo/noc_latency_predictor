{
 "cells": [
  {
   "cell_type": "markdown",
   "id": "c2a5fbf5-760e-49b8-b7b8-b5c5bf73fa9b",
   "metadata": {},
   "source": [
    "### Data Analysis\n",
    "#### Table of Content\n",
    "1. [Impact of mapping on Latency](#1-impact-of-mapping-on-latency)"
   ]
  },
  {
   "cell_type": "code",
   "execution_count": 185,
   "id": "a6b0566c-5df0-44e7-9345-962cba230518",
   "metadata": {},
   "outputs": [
    {
     "name": "stdout",
     "output_type": "stream",
     "text": [
      "Number of files in \"data/task_5\": \t3600\n",
      "Number of files in imported list: \t3600\n"
     ]
    }
   ],
   "source": [
    "\"\"\"\n",
    "Importing Generated Data  \n",
    "\"\"\"\n",
    "\n",
    "import os \n",
    "import pickle \n",
    "\n",
    "directory_path = 'data/task_5'\n",
    "entries = os.listdir(directory_path)\n",
    "files = sorted([entry for entry in entries if os.path.isfile(os.path.join(directory_path, entry))])\n",
    "\n",
    "list_of_dict = []\n",
    "for file_name in files: \n",
    "    file_path = os.path.join(directory_path,file_name)\n",
    "    with open(file_path, 'rb') as file: \n",
    "        dict = pickle.load(file)\n",
    "        list_of_dict.append(dict)\n",
    "        \n",
    "print(f\"Number of files in \\\"{directory_path}\\\": \\t{len(files)}\")\n",
    "print(f\"Number of files in imported list: \\t{len(list_of_dict)}\")"
   ]
  },
  {
   "cell_type": "code",
   "execution_count": 186,
   "id": "ac047fe4",
   "metadata": {},
   "outputs": [
    {
     "data": {
      "image/png": "[encoded data removed]",
      "text/plain": [
       "<Figure size 640x480 with 1 Axes>"
      ]
     },
     "metadata": {},
     "output_type": "display_data"
    }
   ],
   "source": [
    "\"\"\"\n",
    "Function for Visualizing Graph Object\n",
    "\"\"\"\n",
    "\n",
    "import matplotlib.pyplot as plt \n",
    "import networkx as nx\n",
    "import numpy as np\n",
    "\n",
    "def visGraph(graph, pos=None):\n",
    "    if pos is None:\n",
    "        pos = nx.spring_layout(task_graph, seed=42)\n",
    "        pos['Start'] = np.array([-1,0])\n",
    "        pos['Exit'] = np.array([1,0])\n",
    "    nx.draw(graph, pos, with_labels=True, node_size=700, node_color='skyblue', font_size=10, font_color='black', font_weight='bold', arrowsize=20)\n",
    "    plt.show()\n",
    "\n",
    "task_graph = list_of_dict[0]['task_graph']\n",
    "visGraph(task_graph)"
   ]
  },
  {
   "cell_type": "code",
   "execution_count": 187,
   "id": "301cd6d4-888a-420d-8f67-06eb50446be4",
   "metadata": {},
   "outputs": [],
   "source": [
    "\"\"\"\n",
    "Converting Imported data to Pandas.DataFrame\n",
    "\"\"\"\n",
    "import pandas as pd \n",
    "data_df = pd.DataFrame(list_of_dict)"
   ]
  },
  {
   "cell_type": "code",
   "execution_count": 193,
   "id": "7b7f595b",
   "metadata": {},
   "outputs": [
    {
     "name": "stdout",
     "output_type": "stream",
     "text": [
      "Max Out: \t[1, 2, 3, 4, 5]\n",
      "Alpha: \t\t[0.5, 1.0, 1.5]\n",
      "Beta: \t\t[0.0, 0.5, 1.0, 2.0]\n",
      "Demand Level: \t[0, 1, 2]\n",
      "\n",
      "Length of mapping list 360\n"
     ]
    }
   ],
   "source": [
    "\"\"\"\n",
    "Get Latency Distribution from the number of mapping each task has\n",
    "\"\"\"\n",
    "\n",
    "def calculateStats(dataframe, column_names):\n",
    "    stats_dict = {}\n",
    "    for column_name in column_names:\n",
    "        column_range = dataframe[column_name].max() - dataframe[column_name].min()\n",
    "        column_std_dev = dataframe[column_name].std()\n",
    "        column_mean = dataframe[column_name].mean()\n",
    "        column_median = dataframe[column_name].median()\n",
    "        \n",
    "        stats_dict[column_name] = {\n",
    "            'range': column_range,\n",
    "            'std': column_std_dev, \n",
    "            'mean': column_mean, \n",
    "            'median': column_median\n",
    "\n",
    "        }\n",
    "    return stats_dict\n",
    "\n",
    "def getStatFromFilteredDF(demand_df, plot=False):\n",
    "\n",
    "    demand_df.reset_index(inplace=True, drop=True)\n",
    "    demand_df.index += 1\n",
    "\n",
    "    stats = calculateStats(demand_df, ['avg_packet_lat', 'avg_flit_lat'])\n",
    "\n",
    "    if plot:\n",
    "        fig, ax1 = plt.subplots()\n",
    "\n",
    "        ax1.plot(demand_df.index.to_numpy(), demand_df['avg_packet_lat'].to_numpy(), label='Avg Packet Latency', color='blue')\n",
    "        ax1.set_xlabel('Entry')\n",
    "        ax1.set_ylabel('Average Packet Latency', color='blue')\n",
    "        ax1.tick_params('y', colors='blue')\n",
    "\n",
    "        ax2 = ax1.twinx()\n",
    "\n",
    "        ax2.plot(demand_df.index.to_numpy(), demand_df['avg_flit_lat'].to_numpy(), label='Avg Flit Latency', color='green')\n",
    "        ax2.set_ylabel('Average Flit Latency', color='green')\n",
    "        ax2.tick_params('y', colors='green')\n",
    "\n",
    "        fig.tight_layout()\n",
    "        plt.show()\n",
    "\n",
    "    return stats\n",
    "\n",
    "def getMapVariation(max_out, alpha, beta, demand_level, plot=False):\n",
    "    filtered_df = data_df.query(f\"max_out == {max_out} and alpha == {alpha} and beta == {beta} and demand_level == {demand_level}\")\n",
    "    unique_demand = filtered_df['demand'].apply(tuple).unique() # Returns Unique values of Demand\n",
    "\n",
    "    unique_lists = [list(t) for t in unique_demand] # List of Unique demand values\n",
    "    \n",
    "    stat_list = []\n",
    "    for unique_list in unique_lists:\n",
    "        demand_df = filtered_df[filtered_df['demand'].apply(lambda x: set(unique_list).issubset(set(x)))] # Filtering dataframe by looking for similar demand\n",
    "        stat = getStatFromFilteredDF(demand_df)\n",
    "        stat_list.append(stat)\n",
    "\n",
    "    return stat_list\n",
    "\n",
    "max_out_list = sorted(data_df['max_out'].unique())\n",
    "alpha_list = sorted(data_df['alpha'].unique())\n",
    "beta_list = sorted(data_df['beta'].unique())\n",
    "demand_level_list = sorted(data_df['demand_level'].unique())\n",
    "\n",
    "print(f\"Max Out: \\t{max_out_list}\")\n",
    "print(f\"Alpha: \\t\\t{alpha_list}\")\n",
    "print(f\"Beta: \\t\\t{beta_list}\")\n",
    "print(f\"Demand Level: \\t{demand_level_list}\")\n",
    "\n",
    "mapping_data = []\n",
    "for max_out in max_out_list:\n",
    "    for alpha in alpha_list:\n",
    "        for beta in beta_list:\n",
    "            for demand_level in demand_level_list:\n",
    "                stat = {}\n",
    "                stat_list = getMapVariation(max_out, alpha, beta, demand_level)\n",
    "                stat['max_out'] = max_out\n",
    "                stat['alpha'] = alpha\n",
    "                stat['demand_level'] = demand_level\n",
    "\n",
    "                for mapping_stat in stat_list:\n",
    "                    for feature_name in mapping_stat:\n",
    "                        for stat_name in mapping_stat[feature_name]:\n",
    "                            name = feature_name + '_' + stat_name\n",
    "                            stat[name] = mapping_stat[feature_name][stat_name]\n",
    "\n",
    "                    mapping_data.append(stat)\n",
    "\n",
    "print(f\"\\nLength of mapping Data {len(mapping_data)}\")"
   ]
  },
  {
   "cell_type": "markdown",
   "id": "70cc7cf0",
   "metadata": {},
   "source": [
    "##### 1. Impact of mapping on Latency "
   ]
  },
  {
   "cell_type": "code",
   "execution_count": 194,
   "id": "431a56ce",
   "metadata": {},
   "outputs": [
    {
     "data": {
      "text/plain": [
       "'\\nPlot Mapping Data\\n'"
      ]
     },
     "execution_count": 194,
     "metadata": {},
     "output_type": "execute_result"
    }
   ],
   "source": [
    "\"\"\"\n",
    "Plot Mapping Data\n",
    "\"\"\""
   ]
  },
  {
   "cell_type": "code",
   "execution_count": null,
   "id": "db674b1e",
   "metadata": {},
   "outputs": [],
   "source": []
  },
  {
   "cell_type": "code",
   "execution_count": null,
   "id": "3ec513da",
   "metadata": {},
   "outputs": [],
   "source": []
  },
  {
   "cell_type": "code",
   "execution_count": null,
   "id": "2cdaec81",
   "metadata": {},
   "outputs": [],
   "source": []
  }
 ],
 "metadata": {
  "kernelspec": {
   "display_name": "Python 3 (ipykernel)",
   "language": "python",
   "name": "python3"
  },
  "language_info": {
   "codemirror_mode": {
    "name": "ipython",
    "version": 3
   },
   "file_extension": ".py",
   "mimetype": "text/x-python",
   "name": "python",
   "nbconvert_exporter": "python",
   "pygments_lexer": "ipython3",
   "version": "3.8.10"
  }
 },
 "nbformat": 4,
 "nbformat_minor": 5
}
