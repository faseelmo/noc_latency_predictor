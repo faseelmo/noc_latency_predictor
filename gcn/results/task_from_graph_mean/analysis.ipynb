{
 "cells": [
  {
   "cell_type": "code",
   "execution_count": 1,
   "metadata": {},
   "outputs": [],
   "source": [
    "import torch\n",
    "from model import GCN\n",
    "import sys\n",
    "sys.path.append(\"../../\")\n",
    "from  utils import visualize_pyG"
   ]
  },
  {
   "cell_type": "code",
   "execution_count": 2,
   "metadata": {},
   "outputs": [
    {
     "name": "stdout",
     "output_type": "stream",
     "text": [
      "Lenght of data_files: 81200\n",
      "First 10 data_fiels ['graph_0.pt', 'graph_1.pt', 'graph_2.pt', 'graph_3.pt', 'graph_4.pt', 'graph_5.pt', 'graph_6.pt', 'graph_7.pt', 'graph_8.pt', 'graph_9.pt']\n",
      "Length of list_of_iso_graphs: 811\n",
      "length of each iso list : 100\n"
     ]
    }
   ],
   "source": [
    "import os \n",
    "import random \n",
    "from natsort import natsorted\n",
    "\n",
    "random.seed(42)\n",
    "data_directory = \"../../../training_data/data/task_from_graph_tensor/\"\n",
    "data_files = os.listdir(data_directory)\n",
    "data_files = natsorted(data_files)\n",
    "print(f\"Lenght of data_files: {len(data_files)}\")\n",
    "print(f\"First 10 data_fiels {data_files[:10]}\")\n",
    "\n",
    "list_of_iso_graphs = []\n",
    "list_of_same_graphs = []\n",
    "for idx, data_file in enumerate(data_files):\n",
    "    data = torch.load(data_directory + data_file)\n",
    "    if idx % 100 == 0 and idx != 0:\n",
    "        list_of_iso_graphs.append(list_of_same_graphs.copy())\n",
    "        list_of_same_graphs.clear()\n",
    "        list_of_same_graphs.append(data)\n",
    "    else: \n",
    "        list_of_same_graphs.append(data)\n",
    "\n",
    "print(f\"Length of list_of_iso_graphs: {len(list_of_iso_graphs)}\")\n",
    "print(f\"length of each iso list : {len(list_of_iso_graphs[0])}\")"
   ]
  },
  {
   "cell_type": "code",
   "execution_count": 3,
   "metadata": {},
   "outputs": [
    {
     "name": "stdout",
     "output_type": "stream",
     "text": [
      "Random values 1 is [654, 114, 25, 759, 281, 250, 228, 142, 754, 104]\n",
      "Random values 2 is [692, 758, 558, 89, 604, 432, 32, 30, 95, 223]\n",
      "True\n",
      "True\n",
      "True\n",
      "True\n",
      "True\n",
      "True\n",
      "True\n",
      "True\n",
      "True\n",
      "True\n",
      "False\n",
      "False\n",
      "False\n",
      "False\n",
      "False\n",
      "False\n",
      "False\n",
      "False\n",
      "False\n",
      "False\n"
     ]
    }
   ],
   "source": [
    "import networkx as nx\n",
    "from torch_geometric.utils import to_networkx\n",
    "\n",
    "def check_iso(index_1, index_2):\n",
    "    graph_1 = to_networkx(list_of_iso_graphs[index_1][random.randint(0, 99)])\n",
    "    graph_2 = to_networkx(list_of_iso_graphs[index_2][random.randint(0, 99)])\n",
    "    print(nx.is_isomorphic(graph_1, graph_2))\n",
    "\n",
    "random_values_1 = [random.randint(0, 811) for _ in range(10)]\n",
    "random_values_2 = [random.randint(0, 811) for _ in range(10)]\n",
    "\n",
    "print(f\"Random values 1 is {random_values_1}\")\n",
    "print(f\"Random values 2 is {random_values_2}\")\n",
    "\n",
    "for rand_num in random_values_1:\n",
    "    check_iso(rand_num, rand_num)\n",
    "\n",
    "for rand_1, rand_2 in zip(random_values_1, random_values_2):\n",
    "    check_iso(rand_1, rand_2)\n",
    "\n",
    "\n",
    "# visualize_pyG(list_of_iso_graphs[2][50])\n"
   ]
  },
  {
   "cell_type": "code",
   "execution_count": 4,
   "metadata": {},
   "outputs": [
    {
     "name": "stdout",
     "output_type": "stream",
     "text": [
      "Predicted latency: tensor([[2135.7932]], grad_fn=<AddmmBackward0>)\n",
      "Actual latency: tensor([2073.])\n"
     ]
    }
   ],
   "source": [
    "def do_inference(data):\n",
    "    model_path = \"LatNet_50_state_dict.pth\"\n",
    "    model_state_dict = torch.load(model_path,  map_location=torch.device('cpu'))\n",
    "    model =  GCN().to(torch.device('cpu'))\n",
    "    model.load_state_dict(model_state_dict)\n",
    "    pred_latency = model(data.x, data.edge_index, data.batch)\n",
    "    actual_latency = data.y\n",
    "    model.load_state_dict(model_state_dict)\n",
    "    return pred_latency, actual_latency\n",
    "\n",
    "data = torch.load(f'{data_directory}graph_{random.randint(0,81200)}.pt')\n",
    "pred, actual = do_inference(data)\n",
    "\n",
    "print(f\"Predicted latency: {pred}\")\n",
    "print(f\"Actual latency: {actual}\")"
   ]
  },
  {
   "cell_type": "code",
   "execution_count": 32,
   "metadata": {},
   "outputs": [
    {
     "data": {
      "image/png": "[encoded data removed]",
      "text/plain": [
       "<Figure size 640x480 with 1 Axes>"
      ]
     },
     "metadata": {},
     "output_type": "display_data"
    }
   ],
   "source": [
    "import numpy as np\n",
    "import matplotlib.pyplot as plt\n",
    "\n",
    "random.seed(42)\n",
    "test_data = random.sample(list_of_iso_graphs, 10)\n",
    "\n",
    "pred_latency_list = []\n",
    "list_of_latency_list = []\n",
    "\n",
    "for idx, same_graphs in enumerate(test_data):\n",
    "    latency_list = []\n",
    "    to_infer = True\n",
    "    for graph in same_graphs:\n",
    "        latency_list.append(graph.y.item())\n",
    "        if to_infer:\n",
    "            pred, _ = do_inference(graph)\n",
    "            pred_latency_list.append(pred.item())\n",
    "            to_infer = False\n",
    "\n",
    "    list_of_latency_list.append(latency_list)\n",
    "\n",
    "fig, ax = plt.subplots()\n",
    "ax.boxplot(list_of_latency_list)\n",
    "\n",
    "ax.scatter(np.arange(1, 11), pred_latency_list, color='red')\n",
    "plt.show()\n"
   ]
  }
 ],
 "metadata": {
  "kernelspec": {
   "display_name": "Python 3",
   "language": "python",
   "name": "python3"
  },
  "language_info": {
   "codemirror_mode": {
    "name": "ipython",
    "version": 3
   },
   "file_extension": ".py",
   "mimetype": "text/x-python",
   "name": "python",
   "nbconvert_exporter": "python",
   "pygments_lexer": "ipython3",
   "version": "3.10.12"
  }
 },
 "nbformat": 4,
 "nbformat_minor": 2
}
