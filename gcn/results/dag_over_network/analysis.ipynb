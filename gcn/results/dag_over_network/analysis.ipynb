{
 "cells": [
  {
   "cell_type": "code",
   "execution_count": 1,
   "metadata": {},
   "outputs": [],
   "source": [
    "import sys\n",
    "sys.path.append('../../')\n",
    "from utils import load_data, do_inference, get_tau_result"
   ]
  },
  {
   "cell_type": "markdown",
   "metadata": {},
   "source": [
    "### For V1 "
   ]
  },
  {
   "cell_type": "code",
   "execution_count": null,
   "metadata": {},
   "outputs": [],
   "source": [
    "import pandas as pd\n",
    "list_of_undirected_graphs = load_data('../../../training_data/data/task_from_graph_dag_over_network_corrected_test', num_mappings=100)\n",
    "list_of_graphs = load_data('../../../training_data/data/task_from_graph_dag_over_network_driected_corrected_test', num_mappings=100)"
   ]
  },
  {
   "cell_type": "code",
   "execution_count": null,
   "metadata": {},
   "outputs": [],
   "source": [
    "from v1.model import GCN as GCNv1\n",
    "\n",
    "tau_list = get_tau_result(\n",
    "    list_of_undirected_graphs, \n",
    "    MODEL=GCNv1, \n",
    "    model_path=\"v1/LatNet_250_state_dict.pth\", \n",
    "    input_features=6, \n",
    "    show_plot=False)\n",
    "df = pd.DataFrame(tau_list, columns=['idx', 'tau'])\n",
    "display(df)\n",
    "print(f\"Mean tau: {df['tau'].mean()}\")"
   ]
  },
  {
   "cell_type": "markdown",
   "metadata": {},
   "source": [
    "### V2 "
   ]
  },
  {
   "cell_type": "code",
   "execution_count": null,
   "metadata": {},
   "outputs": [],
   "source": [
    "from v2.model import GCN as GCNv2\n",
    "\n",
    "tau_list = get_tau_result(\n",
    "    list_of_undirected_graphs, \n",
    "    MODEL=GCNv2, \n",
    "    model_path=\"v2/LatNet_100_state_dict.pth\", \n",
    "    input_features=6, \n",
    "    show_plot=False)\n",
    "\n",
    "df = pd.DataFrame(tau_list, columns=['idx', 'tau'])\n",
    "display(df)\n",
    "print(f\"Mean tau: {df['tau'].mean()}\")"
   ]
  },
  {
   "cell_type": "markdown",
   "metadata": {},
   "source": [
    "#### V3"
   ]
  },
  {
   "cell_type": "code",
   "execution_count": null,
   "metadata": {},
   "outputs": [],
   "source": [
    "\n",
    "from v3.model import GCN as GCNv3\n",
    "tau_list = get_tau_result(\n",
    "    list_of_graphs, \n",
    "    MODEL=GCNv3, \n",
    "    model_path=\"v3/LatNet_300_state_dict.pth\", \n",
    "    input_features=6, \n",
    "    show_plot=False)\n",
    "\n",
    "df = pd.DataFrame(tau_list, columns=['idx', 'tau'])\n",
    "display(df)\n",
    "print(f\"Mean tau: {df['tau'].mean()}\")"
   ]
  },
  {
   "cell_type": "markdown",
   "metadata": {},
   "source": [
    "### V4"
   ]
  },
  {
   "cell_type": "code",
   "execution_count": null,
   "metadata": {},
   "outputs": [],
   "source": [
    "\n",
    "from v4.model import GCN as GCNv4\n",
    "tau_list = get_tau_result(\n",
    "    list_of_undirected_graphs, \n",
    "    MODEL=GCNv4, \n",
    "    model_path=\"v4/LatNet_600_state_dict.pth\", \n",
    "    input_features=6, \n",
    "    show_plot=False)\n",
    "\n",
    "df = pd.DataFrame(tau_list, columns=['idx', 'tau'])\n",
    "display(df)\n",
    "print(f\"Mean tau: {df['tau'].mean()}\")"
   ]
  },
  {
   "cell_type": "markdown",
   "metadata": {},
   "source": [
    "### V5 "
   ]
  },
  {
   "cell_type": "code",
   "execution_count": null,
   "metadata": {},
   "outputs": [],
   "source": [
    "from v5.model import GCN as GCNv5\n",
    "tau_list = get_tau_result(\n",
    "    list_of_undirected_graphs, \n",
    "    MODEL=GCNv5, \n",
    "    model_path=\"v5/LatNet_100_state_dict.pth\", \n",
    "    input_features=6, \n",
    "    show_plot=False)\n",
    "\n",
    "df = pd.DataFrame(tau_list, columns=['idx', 'tau'])\n",
    "display(df)\n",
    "print(f\"Mean tau: {df['tau'].mean()}\")"
   ]
  },
  {
   "cell_type": "markdown",
   "metadata": {},
   "source": [
    "#### V6"
   ]
  },
  {
   "cell_type": "code",
   "execution_count": null,
   "metadata": {},
   "outputs": [],
   "source": [
    "from v6.model import GCN as GCNv6\n",
    "tau_list = get_tau_result(\n",
    "    list_of_undirected_graphs, \n",
    "    MODEL=GCNv6, \n",
    "    model_path=\"v6/LatNet_50_state_dict.pth\", \n",
    "    input_features=6, \n",
    "    show_plot=False)\n",
    "\n",
    "df = pd.DataFrame(tau_list, columns=['idx', 'tau'])\n",
    "display(df)\n",
    "print(f\"Mean tau: {df['tau'].mean()}\")"
   ]
  },
  {
   "cell_type": "code",
   "execution_count": null,
   "metadata": {},
   "outputs": [],
   "source": [
    "\n",
    "from v7.model import LatencyModel as GCNv7\n",
    "tau_list = get_tau_result(\n",
    "    list_of_undirected_graphs, \n",
    "    MODEL=GCNv7, \n",
    "    model_path=\"v7/LatNet_200_state_dict.pth\", \n",
    "    input_features=6, \n",
    "    show_plot=False)\n",
    "\n",
    "df = pd.DataFrame(tau_list, columns=['idx', 'tau'])\n",
    "display(df)\n",
    "print(f\"Mean tau: {df['tau'].mean()}\")"
   ]
  },
  {
   "cell_type": "code",
   "execution_count": 17,
   "metadata": {},
   "outputs": [
    {
     "name": "stdout",
     "output_type": "stream",
     "text": [
      "{'router': tensor([0, 0, 0, 0, 0, 0, 0, 0, 0, 0, 0, 0, 0, 0, 0, 0]), 'pe': tensor([0, 0, 0, 0, 0, 0, 0, 0, 0, 0, 0, 0, 0, 0, 0, 0]), 'start_task': tensor([0]), 'task': tensor([0, 0, 0, 0, 0, 0, 0]), 'end_task': tensor([0]), 'link': tensor([0, 0, 0, 0, 0, 0, 0, 0, 0, 0, 0, 0, 0])}\n",
      "x_dict type <class 'dict'>\n",
      "edge_index_dict type <class 'dict'>\n",
      "batch_dict type <class 'dict'>\n"
     ]
    }
   ],
   "source": [
    "import pandas as pd\n",
    "list_of_graphs = load_data('../../../training_data/data/task_from_graph_dag_over_network_hetero_test', num_mappings=100)\n",
    "\n",
    "from torch.utils.data import Dataset, DataLoader\n",
    "\n",
    "class CustomData(Dataset): \n",
    "    def __init__(self, list_of_graphs): \n",
    "        self.list_of_graphs = list_of_graphs    \n",
    "\n",
    "    def __len__(self):\n",
    "        num_of_graphs = len(self.list_of_graphs)\n",
    "        num_of_mapping_per_graph = len(self.list_of_graphs[0])\n",
    "        return num_of_graphs*num_of_mapping_per_graph\n",
    "\n",
    "    def __getitem__(self, idx):\n",
    "        graph_idx = idx // len(self.list_of_graphs[0])\n",
    "        mapping_idx = idx % len(self.list_of_graphs[0])\n",
    "        return self.list_of_graphs[graph_idx][mapping_idx]\n",
    "\n",
    "from v9.model import LatencyModel \n",
    "from torch_geometric.data import Batch\n",
    "import torch\n",
    "\n",
    "def custom_collate(data_list):\n",
    "    return Batch.from_data_list(data_list)\n",
    "\n",
    "graph_dataset = CustomData(list_of_graphs)\n",
    "graph_dataloader = DataLoader(graph_dataset, batch_size=1, collate_fn=custom_collate, shuffle=False)\n",
    "\n",
    "\n",
    "data = next(iter(graph_dataloader))\n",
    "print(data.batch_dict)\n",
    "\n",
    "metadata = data.metadata()\n",
    "model = LatencyModel(num_features=1, hidden_channels=512, metadata=metadata, aggr='sum')\n",
    "print(f\"x_dict type {type(data.x_dict)}\")\n",
    "print(f\"edge_index_dict type {type(data.edge_index_dict)}\")\n",
    "print(f\"batch_dict type {type(data.batch_dict)}\")\n",
    "output = model(data.x_dict, data.edge_index_dict, data.batch_dict['link'])\n",
    "\n"
   ]
  },
  {
   "cell_type": "code",
   "execution_count": null,
   "metadata": {},
   "outputs": [],
   "source": []
  }
 ],
 "metadata": {
  "kernelspec": {
   "display_name": "Python 3",
   "language": "python",
   "name": "python3"
  },
  "language_info": {
   "codemirror_mode": {
    "name": "ipython",
    "version": 3
   },
   "file_extension": ".py",
   "mimetype": "text/x-python",
   "name": "python",
   "nbconvert_exporter": "python",
   "pygments_lexer": "ipython3",
   "version": "3.8.10"
  }
 },
 "nbformat": 4,
 "nbformat_minor": 2
}
