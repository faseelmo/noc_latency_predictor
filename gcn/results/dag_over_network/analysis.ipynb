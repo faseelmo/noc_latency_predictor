{
 "cells": [
  {
   "cell_type": "code",
   "execution_count": null,
   "metadata": {},
   "outputs": [],
   "source": [
    "import sys\n",
    "sys.path.append('../../')\n",
    "from utils import load_data, do_inference, get_tau_result"
   ]
  },
  {
   "cell_type": "markdown",
   "metadata": {},
   "source": [
    "### For V1 "
   ]
  },
  {
   "cell_type": "code",
   "execution_count": null,
   "metadata": {},
   "outputs": [],
   "source": [
    "import pandas as pd\n",
    "list_of_undirected_graphs = load_data('../../../training_data/data/task_from_graph_dag_over_network_corrected_test', num_mappings=100)\n",
    "list_of_graphs = load_data('../../../training_data/data/task_from_graph_dag_over_network_driected_corrected_test', num_mappings=100)"
   ]
  },
  {
   "cell_type": "code",
   "execution_count": null,
   "metadata": {},
   "outputs": [],
   "source": [
    "from v1.model import GCN as GCNv1\n",
    "\n",
    "tau_list = get_tau_result(\n",
    "    list_of_undirected_graphs, \n",
    "    MODEL=GCNv1, \n",
    "    model_path=\"v1/LatNet_250_state_dict.pth\", \n",
    "    input_features=6, \n",
    "    show_plot=False)\n",
    "df = pd.DataFrame(tau_list, columns=['idx', 'tau'])\n",
    "display(df)\n",
    "print(f\"Mean tau: {df['tau'].mean()}\")"
   ]
  },
  {
   "cell_type": "markdown",
   "metadata": {},
   "source": [
    "### V2 "
   ]
  },
  {
   "cell_type": "code",
   "execution_count": null,
   "metadata": {},
   "outputs": [],
   "source": [
    "from v2.model import GCN as GCNv2\n",
    "\n",
    "tau_list = get_tau_result(\n",
    "    list_of_undirected_graphs, \n",
    "    MODEL=GCNv2, \n",
    "    model_path=\"v2/LatNet_100_state_dict.pth\", \n",
    "    input_features=6, \n",
    "    show_plot=False)\n",
    "\n",
    "df = pd.DataFrame(tau_list, columns=['idx', 'tau'])\n",
    "display(df)\n",
    "print(f\"Mean tau: {df['tau'].mean()}\")"
   ]
  },
  {
   "cell_type": "markdown",
   "metadata": {},
   "source": [
    "#### V3"
   ]
  },
  {
   "cell_type": "code",
   "execution_count": null,
   "metadata": {},
   "outputs": [],
   "source": [
    "\n",
    "from v3.model import GCN as GCNv3\n",
    "tau_list = get_tau_result(\n",
    "    list_of_graphs, \n",
    "    MODEL=GCNv3, \n",
    "    model_path=\"v3/LatNet_300_state_dict.pth\", \n",
    "    input_features=6, \n",
    "    show_plot=False)\n",
    "\n",
    "df = pd.DataFrame(tau_list, columns=['idx', 'tau'])\n",
    "display(df)\n",
    "print(f\"Mean tau: {df['tau'].mean()}\")"
   ]
  },
  {
   "cell_type": "markdown",
   "metadata": {},
   "source": [
    "### V4"
   ]
  },
  {
   "cell_type": "code",
   "execution_count": null,
   "metadata": {},
   "outputs": [],
   "source": [
    "\n",
    "from v4.model import GCN as GCNv4\n",
    "tau_list = get_tau_result(\n",
    "    list_of_undirected_graphs, \n",
    "    MODEL=GCNv4, \n",
    "    model_path=\"v4/LatNet_600_state_dict.pth\", \n",
    "    input_features=6, \n",
    "    show_plot=False)\n",
    "\n",
    "df = pd.DataFrame(tau_list, columns=['idx', 'tau'])\n",
    "display(df)\n",
    "print(f\"Mean tau: {df['tau'].mean()}\")"
   ]
  },
  {
   "cell_type": "markdown",
   "metadata": {},
   "source": [
    "### V5 "
   ]
  },
  {
   "cell_type": "code",
   "execution_count": null,
   "metadata": {},
   "outputs": [],
   "source": [
    "from v5.model import GCN as GCNv5\n",
    "tau_list = get_tau_result(\n",
    "    list_of_undirected_graphs, \n",
    "    MODEL=GCNv5, \n",
    "    model_path=\"v5/LatNet_100_state_dict.pth\", \n",
    "    input_features=6, \n",
    "    show_plot=False)\n",
    "\n",
    "df = pd.DataFrame(tau_list, columns=['idx', 'tau'])\n",
    "display(df)\n",
    "print(f\"Mean tau: {df['tau'].mean()}\")"
   ]
  },
  {
   "cell_type": "markdown",
   "metadata": {},
   "source": [
    "#### V6"
   ]
  },
  {
   "cell_type": "code",
   "execution_count": null,
   "metadata": {},
   "outputs": [],
   "source": [
    "from v6.model import GCN as GCNv6\n",
    "tau_list = get_tau_result(\n",
    "    list_of_undirected_graphs, \n",
    "    MODEL=GCNv6, \n",
    "    model_path=\"v6/LatNet_50_state_dict.pth\", \n",
    "    input_features=6, \n",
    "    show_plot=False)\n",
    "\n",
    "df = pd.DataFrame(tau_list, columns=['idx', 'tau'])\n",
    "display(df)\n",
    "print(f\"Mean tau: {df['tau'].mean()}\")"
   ]
  },
  {
   "cell_type": "code",
   "execution_count": null,
   "metadata": {},
   "outputs": [],
   "source": [
    "\n",
    "from v7.model import LatencyModel as GCNv7\n",
    "tau_list = get_tau_result(\n",
    "    list_of_undirected_graphs, \n",
    "    MODEL=GCNv7, \n",
    "    model_path=\"v7/LatNet_200_state_dict.pth\", \n",
    "    input_features=6, \n",
    "    show_plot=False)\n",
    "\n",
    "df = pd.DataFrame(tau_list, columns=['idx', 'tau'])\n",
    "display(df)\n",
    "print(f\"Mean tau: {df['tau'].mean()}\")"
   ]
  },
  {
   "cell_type": "code",
   "execution_count": 2,
   "metadata": {},
   "outputs": [],
   "source": [
    "from v8.model import LatencyModel as GCNv8\n"
   ]
  },
  {
   "cell_type": "code",
   "execution_count": null,
   "metadata": {},
   "outputs": [],
   "source": []
  }
 ],
 "metadata": {
  "kernelspec": {
   "display_name": "Python 3",
   "language": "python",
   "name": "python3"
  },
  "language_info": {
   "codemirror_mode": {
    "name": "ipython",
    "version": 3
   },
   "file_extension": ".py",
   "mimetype": "text/x-python",
   "name": "python",
   "nbconvert_exporter": "python",
   "pygments_lexer": "ipython3",
   "version": "3.8.10"
  }
 },
 "nbformat": 4,
 "nbformat_minor": 2
}
