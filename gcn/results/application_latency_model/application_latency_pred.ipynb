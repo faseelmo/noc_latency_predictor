{
 "cells": [
  {
   "cell_type": "code",
   "execution_count": 1,
   "metadata": {},
   "outputs": [],
   "source": [
    "import sys\n",
    "sys.path.append('../../../training_data/')"
   ]
  },
  {
   "cell_type": "code",
   "execution_count": 3,
   "metadata": {},
   "outputs": [
    {
     "name": "stdout",
     "output_type": "stream",
     "text": [
      "Number of unique tasks: 665\n"
     ]
    }
   ],
   "source": [
    "import pickle\n",
    "\n",
    "list_of_same_grpahs = pickle.load(open('../../../training_data/data/list_of_same_graphs.pkl', 'rb'))\n",
    "print(f\"Number of unique tasks: {len(list_of_dags)}\")"
   ]
  },
  {
   "cell_type": "code",
   "execution_count": 4,
   "metadata": {},
   "outputs": [
    {
     "ename": "NameError",
     "evalue": "name 'list_of_same_graphs' is not defined",
     "output_type": "error",
     "traceback": [
      "\u001b[0;31m---------------------------------------------------------------------------\u001b[0m",
      "\u001b[0;31mNameError\u001b[0m                                 Traceback (most recent call last)",
      "Cell \u001b[0;32mIn[4], line 55\u001b[0m\n\u001b[1;32m     51\u001b[0m     actual_latency \u001b[38;5;241m=\u001b[39m \u001b[38;5;28minput\u001b[39m\u001b[38;5;241m.\u001b[39my\n\u001b[1;32m     52\u001b[0m     \u001b[38;5;28;01mreturn\u001b[39;00m pred_latency\u001b[38;5;241m.\u001b[39mitem(), actual_latency\u001b[38;5;241m.\u001b[39mitem()\n\u001b[0;32m---> 55\u001b[0m test_data \u001b[38;5;241m=\u001b[39m  \u001b[43mlist_of_same_graphs\u001b[49m[\u001b[38;5;241m0\u001b[39m][\u001b[38;5;241m0\u001b[39m]\n\u001b[1;32m     57\u001b[0m LatNetInference(test_data)\n",
      "\u001b[0;31mNameError\u001b[0m: name 'list_of_same_graphs' is not defined"
     ]
    }
   ],
   "source": [
    "import torch\n",
    "from torch_geometric.data import Data\n",
    "import sys\n",
    "# sys.path.append('../')\n",
    "\n",
    "# string_to_match = '../'\n",
    "# sys.path = [path for path in sys.path if string_to_match not in path]\n",
    "# print(sys.path)\n",
    "\n",
    "# from gcn.dataset import convert_edge_index\n",
    "\n",
    "def convert_edge_index(edge_index, num_of_tasks):\n",
    "    converted_edge_index = []\n",
    "    node_mapping = {'Start': 0, 'Exit': num_of_tasks}\n",
    "\n",
    "    for src, dest in edge_index:\n",
    "        if src == 'Start':\n",
    "            src = node_mapping[src]\n",
    "\n",
    "        if dest == 'Exit':\n",
    "            dest = node_mapping[dest]\n",
    "\n",
    "        converted_edge_index.append((src, dest))\n",
    "\n",
    "    return converted_edge_index\n",
    "\n",
    "def convert_data(data_dict):\n",
    "    task_dag = data_dict['task_dag']\n",
    "    task_processing_time = float(data_dict['network_processing_time'])\n",
    "    target_value = torch.tensor([task_processing_time]).float()\n",
    "\n",
    "    task_graph = task_dag.graph\n",
    "    edge_index = list(task_graph.edges)\n",
    "    \n",
    "    total_tasks = len(task_graph.nodes)\n",
    "    last_task = len(task_graph.nodes) - 1\n",
    "    \n",
    "    converted_edge_index = convert_edge_index(edge_index, last_task)\n",
    "    converted_edge_index_torch = torch.tensor(converted_edge_index, dtype=torch.int).t().contiguous()\n",
    "\n",
    "    dummy_input = torch.ones(total_tasks).view(-1,1)\n",
    "    data = Data(x=dummy_input,edge_index=converted_edge_index_torch, y=target_value)\n",
    "\n",
    "    return data\n",
    "\n",
    "def LatNetInference(data_dict):\n",
    "    model_path = \"../gcn/results/application_latency_model/LatNet_500.pth\"\n",
    "    model = torch.load(model_path,  map_location=torch.device('cpu'))\n",
    "    input = convert_data(data_dict)\n",
    "    pred_latency = model(input)\n",
    "    actual_latency = input.y\n",
    "    return pred_latency.item(), actual_latency.item()\n",
    "\n",
    "\n",
    "test_data =  list_of_same_graphs[0][0]\n",
    "\n",
    "LatNetInference(test_data)\n"
   ]
  }
 ],
 "metadata": {
  "kernelspec": {
   "display_name": "Python 3",
   "language": "python",
   "name": "python3"
  },
  "language_info": {
   "codemirror_mode": {
    "name": "ipython",
    "version": 3
   },
   "file_extension": ".py",
   "mimetype": "text/x-python",
   "name": "python",
   "nbconvert_exporter": "python",
   "pygments_lexer": "ipython3",
   "version": "3.10.12"
  }
 },
 "nbformat": 4,
 "nbformat_minor": 2
}
